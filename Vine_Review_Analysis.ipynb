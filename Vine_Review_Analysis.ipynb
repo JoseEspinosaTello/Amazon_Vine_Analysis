{
  "nbformat": 4,
  "nbformat_minor": 0,
  "metadata": {
    "colab": {
      "name": "Vine_Review_Analysis.ipynb",
      "provenance": [],
      "collapsed_sections": []
    },
    "kernelspec": {
      "name": "python3",
      "display_name": "Python 3"
    },
    "language_info": {
      "name": "python"
    }
  },
  "cells": [
    {
      "cell_type": "code",
      "execution_count": null,
      "metadata": {
        "colab": {
          "base_uri": "https://localhost:8080/"
        },
        "id": "GHQZBKEoTzvJ",
        "outputId": "794fac3d-0995-4bfd-94e1-ed218a382227"
      },
      "outputs": [
        {
          "output_type": "stream",
          "name": "stdout",
          "text": [
            "\r0% [Working]\r            \rGet:1 http://security.ubuntu.com/ubuntu bionic-security InRelease [88.7 kB]\n",
            "\r0% [Waiting for headers] [1 InRelease 0 B/88.7 kB 0%] [Connected to cloud.r-pro\r                                                                               \rGet:2 https://cloud.r-project.org/bin/linux/ubuntu bionic-cran40/ InRelease [3,626 B]\n",
            "\r0% [Waiting for headers] [1 InRelease 14.2 kB/88.7 kB 16%] [2 InRelease 3,626 B\r0% [Waiting for headers] [1 InRelease 83.7 kB/88.7 kB 94%] [Waiting for headers\r                                                                               \r0% [Waiting for headers] [Waiting for headers] [Waiting for headers]\r0% [2 InRelease gpgv 3,626 B] [Waiting for headers] [Waiting for headers] [Wait\r                                                                               \rHit:3 http://archive.ubuntu.com/ubuntu bionic InRelease\n",
            "\r                                                                               \r0% [2 InRelease gpgv 3,626 B] [Waiting for headers] [Waiting for headers]\r                                                                         \rGet:4 http://ppa.launchpad.net/c2d4u.team/c2d4u4.0+/ubuntu bionic InRelease [15.9 kB]\n",
            "\r0% [2 InRelease gpgv 3,626 B] [Waiting for headers] [Waiting for headers] [4 In\r                                                                               \rIgn:5 https://developer.download.nvidia.com/compute/machine-learning/repos/ubuntu1804/x86_64  InRelease\n",
            "\r0% [2 InRelease gpgv 3,626 B] [Waiting for headers] [Waiting for headers] [4 In\r                                                                               \rGet:6 http://archive.ubuntu.com/ubuntu bionic-updates InRelease [88.7 kB]\n",
            "\r0% [2 InRelease gpgv 3,626 B] [6 InRelease 14.2 kB/88.7 kB 16%] [Waiting for he\r                                                                               \rGet:7 https://developer.download.nvidia.com/compute/cuda/repos/ubuntu1804/x86_64  InRelease [1,581 B]\n",
            "Hit:8 https://developer.download.nvidia.com/compute/machine-learning/repos/ubuntu1804/x86_64  Release\n",
            "Hit:9 http://ppa.launchpad.net/cran/libgit2/ubuntu bionic InRelease\n",
            "Get:10 http://archive.ubuntu.com/ubuntu bionic-backports InRelease [74.6 kB]\n",
            "Hit:11 http://ppa.launchpad.net/deadsnakes/ppa/ubuntu bionic InRelease\n",
            "Get:12 https://cloud.r-project.org/bin/linux/ubuntu bionic-cran40/ Packages [91.1 kB]\n",
            "Hit:13 http://ppa.launchpad.net/graphics-drivers/ppa/ubuntu bionic InRelease\n",
            "Get:14 http://security.ubuntu.com/ubuntu bionic-security/main amd64 Packages [2,938 kB]\n",
            "Get:15 http://security.ubuntu.com/ubuntu bionic-security/universe amd64 Packages [1,534 kB]\n",
            "Get:16 https://developer.download.nvidia.com/compute/cuda/repos/ubuntu1804/x86_64  Packages [912 kB]\n",
            "Get:17 http://ppa.launchpad.net/c2d4u.team/c2d4u4.0+/ubuntu bionic/main Sources [2,093 kB]\n",
            "Get:19 http://ppa.launchpad.net/c2d4u.team/c2d4u4.0+/ubuntu bionic/main amd64 Packages [1,073 kB]\n",
            "Get:20 http://archive.ubuntu.com/ubuntu bionic-updates/main amd64 Packages [3,369 kB]\n",
            "Get:21 http://archive.ubuntu.com/ubuntu bionic-updates/universe amd64 Packages [2,311 kB]\n",
            "Fetched 14.6 MB in 6s (2,427 kB/s)\n",
            "Reading package lists... Done\n"
          ]
        }
      ],
      "source": [
        "import os\n",
        "# Find the latest version of spark 3.0 from http://www.apache.org/dist/spark/ and enter as the spark version\n",
        "# For example:\n",
        "# spark_version = 'spark-3.0.3'\n",
        "spark_version = 'spark-3.3.0'\n",
        "os.environ['SPARK_VERSION']=spark_version\n",
        "\n",
        "# Install Spark and Java\n",
        "!apt-get update\n",
        "!apt-get install openjdk-11-jdk-headless -qq > /dev/null\n",
        "!wget -q http://www.apache.org/dist/spark/$SPARK_VERSION/$SPARK_VERSION-bin-hadoop3.tgz\n",
        "!tar xf $SPARK_VERSION-bin-hadoop3.tgz\n",
        "!pip install -q findspark\n",
        "\n",
        "# Set Environment Variables\n",
        "import os\n",
        "os.environ[\"JAVA_HOME\"] = \"/usr/lib/jvm/java-11-openjdk-amd64\"\n",
        "os.environ[\"SPARK_HOME\"] = f\"/content/{spark_version}-bin-hadoop3\"\n",
        "\n",
        "# Start a SparkSession\n",
        "import findspark\n",
        "findspark.init()"
      ]
    },
    {
      "cell_type": "code",
      "source": [
        "# Download the Postgres driver that will allow Spark to interact with Postgres.\n",
        "!wget https://jdbc.postgresql.org/download/postgresql-42.2.16.jar\n",
        "\n",
        "from pyspark.sql import SparkSession\n",
        "spark = SparkSession.builder.appName(\"M16-Amazon-Challenge\").config(\"spark.driver.extraClassPath\",\"/content/postgresql-42.2.16.jar\").getOrCreate()\n",
        "\n"
      ],
      "metadata": {
        "colab": {
          "base_uri": "https://localhost:8080/"
        },
        "id": "w864NgKMUZeS",
        "outputId": "5ef390a3-51d5-4711-97d4-4383ee76b13a"
      },
      "execution_count": null,
      "outputs": [
        {
          "output_type": "stream",
          "name": "stdout",
          "text": [
            "--2022-08-29 03:18:33--  https://jdbc.postgresql.org/download/postgresql-42.2.16.jar\n",
            "Resolving jdbc.postgresql.org (jdbc.postgresql.org)... 72.32.157.228, 2001:4800:3e1:1::228\n",
            "Connecting to jdbc.postgresql.org (jdbc.postgresql.org)|72.32.157.228|:443... connected.\n",
            "HTTP request sent, awaiting response... 200 OK\n",
            "Length: 1002883 (979K) [application/java-archive]\n",
            "Saving to: ‘postgresql-42.2.16.jar’\n",
            "\n",
            "postgresql-42.2.16. 100%[===================>] 979.38K  5.51MB/s    in 0.2s    \n",
            "\n",
            "2022-08-29 03:18:33 (5.51 MB/s) - ‘postgresql-42.2.16.jar’ saved [1002883/1002883]\n",
            "\n"
          ]
        }
      ]
    },
    {
      "cell_type": "markdown",
      "source": [
        "***Import data from SQL table and Create a Dataframe***"
      ],
      "metadata": {
        "id": "iNExwvG-zoPC"
      }
    },
    {
      "cell_type": "code",
      "source": [
        "# Store environmental variable\n",
        "\n",
        "from getpass import getpass\n",
        "password = getpass('Enter database password')\n",
        "\n",
        "# Configure settings for RDS\n",
        "\n",
        "mode = \"append\"\n",
        "jdbc_url=\"jdbc:postgresql://challenge.cib8i0dtf6rx.us-east-1.rds.amazonaws.com:5432/Challenge_db\"\n",
        "config = {\"user\":\"postgres\", \n",
        "          \"password\": password, \n",
        "          \"driver\":\"org.postgresql.Driver\"}"
      ],
      "metadata": {
        "colab": {
          "base_uri": "https://localhost:8080/"
        },
        "id": "ptAcF_-VUsQG",
        "outputId": "41155da1-dfa7-4ed6-de96-94bb5faa7b74"
      },
      "execution_count": null,
      "outputs": [
        {
          "name": "stdout",
          "output_type": "stream",
          "text": [
            "Enter database password··········\n"
          ]
        }
      ]
    },
    {
      "cell_type": "code",
      "source": [
        "vine_df = spark.read.jdbc(url=jdbc_url, table='vine_table', properties=config)"
      ],
      "metadata": {
        "id": "QxXktOnNUx-B"
      },
      "execution_count": null,
      "outputs": []
    },
    {
      "cell_type": "code",
      "source": [
        "vine_df.show(10)\n",
        "print(f\"total count: {vine_df.count()}\")"
      ],
      "metadata": {
        "colab": {
          "base_uri": "https://localhost:8080/"
        },
        "id": "HJgvcAKHW_xX",
        "outputId": "3dc5c983-30a0-4444-f525-f9015e98bb6f"
      },
      "execution_count": 50,
      "outputs": [
        {
          "output_type": "stream",
          "name": "stdout",
          "text": [
            "+--------------+-----------+-------------+-----------+----+-----------------+\n",
            "|     review_id|star_rating|helpful_votes|total_votes|vine|verified_purchase|\n",
            "+--------------+-----------+-------------+-----------+----+-----------------+\n",
            "| RTIS3L2M1F5SM|          5|            0|          0|   N|                Y|\n",
            "| R1ZV7R40OLHKD|          5|            0|          0|   N|                Y|\n",
            "|R3BH071QLH8QMC|          1|            0|          1|   N|                Y|\n",
            "|R127K9NTSXA2YH|          3|            0|          0|   N|                Y|\n",
            "|R32ZWUXDJPW27Q|          4|            0|          0|   N|                Y|\n",
            "|R3AQQ4YUKJWBA6|          1|            0|          0|   N|                Y|\n",
            "|R2F0POU5K6F73F|          5|            0|          0|   N|                Y|\n",
            "|R3VNR804HYSMR6|          5|            0|          0|   N|                Y|\n",
            "| R3GZTM72WA2QH|          5|            0|          0|   N|                Y|\n",
            "| RNQOY62705W1K|          4|            0|          0|   N|                Y|\n",
            "+--------------+-----------+-------------+-----------+----+-----------------+\n",
            "only showing top 10 rows\n",
            "\n",
            "total count: 1785997\n"
          ]
        }
      ]
    },
    {
      "cell_type": "markdown",
      "source": [
        "***Filter Data from Vine Table Dataframe***"
      ],
      "metadata": {
        "id": "3FRBmYMZ0FhK"
      }
    },
    {
      "cell_type": "code",
      "source": [
        "#1. Filter data and create a new df to retrieve all the rows where total_votes vount >= 20.\n",
        "\n",
        "total_votes_df = vine_df[vine_df['total_votes'] >= 20]"
      ],
      "metadata": {
        "id": "OL6Fss2wZ6pi"
      },
      "execution_count": null,
      "outputs": []
    },
    {
      "cell_type": "code",
      "source": [
        "total_votes_df.show(5)\n",
        "print(f\"total count: {total_votes_df.count()}\")"
      ],
      "metadata": {
        "colab": {
          "base_uri": "https://localhost:8080/"
        },
        "id": "GInOZSAdbkve",
        "outputId": "447d7e6b-d94c-4691-8f42-48de5ee37e08"
      },
      "execution_count": 48,
      "outputs": [
        {
          "output_type": "stream",
          "name": "stdout",
          "text": [
            "+--------------+-----------+-------------+-----------+----+-----------------+\n",
            "|     review_id|star_rating|helpful_votes|total_votes|vine|verified_purchase|\n",
            "+--------------+-----------+-------------+-----------+----+-----------------+\n",
            "| R4PKAZRQJJX14|          1|           21|         34|   N|                N|\n",
            "|R2CI0Y288CC7E2|          1|           21|         35|   N|                Y|\n",
            "|R127WEQY2FM1T3|          1|          147|        175|   N|                Y|\n",
            "|R3EZ0EPYLDA34S|          1|           14|         31|   N|                Y|\n",
            "|R2FJ94555FZH32|          2|           55|         60|   N|                N|\n",
            "+--------------+-----------+-------------+-----------+----+-----------------+\n",
            "only showing top 5 rows\n",
            "\n",
            "total count: 65379\n"
          ]
        }
      ]
    },
    {
      "cell_type": "code",
      "source": [
        "#2. filter new df and create new df to retreieve all rows where the number of helpful_votes/total_votes >= 50%.\n",
        "\n",
        "helpful_votes = total_votes_df[total_votes_df[\"helpful_votes\"]/total_votes_df[\"total_votes\"]>=0.5]"
      ],
      "metadata": {
        "id": "JejqwIsTb4t8"
      },
      "execution_count": 41,
      "outputs": []
    },
    {
      "cell_type": "code",
      "source": [
        "helpful_votes.show(5)\n",
        "print(f\"total count: {helpful_votes.count()}\")"
      ],
      "metadata": {
        "colab": {
          "base_uri": "https://localhost:8080/"
        },
        "id": "0cilN0pwd4KL",
        "outputId": "e4691e91-57e7-4eae-9471-709d93686625"
      },
      "execution_count": 47,
      "outputs": [
        {
          "output_type": "stream",
          "name": "stdout",
          "text": [
            "+--------------+-----------+-------------+-----------+----+-----------------+\n",
            "|     review_id|star_rating|helpful_votes|total_votes|vine|verified_purchase|\n",
            "+--------------+-----------+-------------+-----------+----+-----------------+\n",
            "| R4PKAZRQJJX14|          1|           21|         34|   N|                N|\n",
            "|R2CI0Y288CC7E2|          1|           21|         35|   N|                Y|\n",
            "|R127WEQY2FM1T3|          1|          147|        175|   N|                Y|\n",
            "|R2FJ94555FZH32|          2|           55|         60|   N|                N|\n",
            "|R1U3AR67RE273L|          1|           51|         65|   N|                Y|\n",
            "+--------------+-----------+-------------+-----------+----+-----------------+\n",
            "only showing top 5 rows\n",
            "\n",
            "total count: 40565\n"
          ]
        }
      ]
    },
    {
      "cell_type": "code",
      "source": [
        "#3. Filter the df and create a new df that retrieves all the rows ehere a review was written as part of vine program(paid)\n",
        "#vine == \"Y\"\n",
        "\n",
        "paid_vine_df = helpful_votes[helpful_votes[\"vine\"] == \"Y\"]"
      ],
      "metadata": {
        "id": "h25aaNSYeQLO"
      },
      "execution_count": null,
      "outputs": []
    },
    {
      "cell_type": "code",
      "source": [
        "paid_vine_df.show(10)\n",
        "print(f\"total count: {paid_vine_df.count()}\")"
      ],
      "metadata": {
        "colab": {
          "base_uri": "https://localhost:8080/"
        },
        "id": "eabMI-yvgzuo",
        "outputId": "90a0319c-d1b4-4f7b-8032-32b4f3085f54"
      },
      "execution_count": 46,
      "outputs": [
        {
          "output_type": "stream",
          "name": "stdout",
          "text": [
            "+--------------+-----------+-------------+-----------+----+-----------------+\n",
            "|     review_id|star_rating|helpful_votes|total_votes|vine|verified_purchase|\n",
            "+--------------+-----------+-------------+-----------+----+-----------------+\n",
            "|R10FO5UKKVZBK2|          3|           23|         23|   Y|                N|\n",
            "|R11O4YSCPSNL6L|          3|           20|         26|   Y|                N|\n",
            "|R3KKUSGFZWSUIY|          5|           56|         63|   Y|                N|\n",
            "| RG7VRMYLEXD23|          4|           22|         26|   Y|                N|\n",
            "| RM4KSGEOR7MU1|          5|           19|         24|   Y|                N|\n",
            "|R1JRR530H4COA2|          5|           22|         28|   Y|                N|\n",
            "|R286MFBAJ8NPD6|          5|           46|         51|   Y|                N|\n",
            "|R12648VHCQWUV9|          4|           21|         28|   Y|                N|\n",
            "| RQ5WD90PUNBU9|          5|           21|         24|   Y|                N|\n",
            "|R3KAW29CJ8L6DQ|          5|           17|         20|   Y|                N|\n",
            "+--------------+-----------+-------------+-----------+----+-----------------+\n",
            "only showing top 10 rows\n",
            "\n",
            "total count: 94\n"
          ]
        }
      ]
    },
    {
      "cell_type": "code",
      "source": [
        "#4. Repeat step 3 but retrieve where review was not part of vine program\n",
        "#vine == N\n",
        "\n",
        "non_paid_vine_df = helpful_votes[helpful_votes[\"vine\"] == \"N\"]"
      ],
      "metadata": {
        "id": "A5ZriPU-hDmS"
      },
      "execution_count": null,
      "outputs": []
    },
    {
      "cell_type": "code",
      "source": [
        "non_paid_vine_df.show(10)\n",
        "print(f\"total count: {non_paid_vine_df.count()}\")"
      ],
      "metadata": {
        "colab": {
          "base_uri": "https://localhost:8080/"
        },
        "id": "uEwA-j08hcOy",
        "outputId": "d3ab1d89-7616-489b-c10b-7d623a32cec9"
      },
      "execution_count": 49,
      "outputs": [
        {
          "output_type": "stream",
          "name": "stdout",
          "text": [
            "+--------------+-----------+-------------+-----------+----+-----------------+\n",
            "|     review_id|star_rating|helpful_votes|total_votes|vine|verified_purchase|\n",
            "+--------------+-----------+-------------+-----------+----+-----------------+\n",
            "| R4PKAZRQJJX14|          1|           21|         34|   N|                N|\n",
            "|R2CI0Y288CC7E2|          1|           21|         35|   N|                Y|\n",
            "|R127WEQY2FM1T3|          1|          147|        175|   N|                Y|\n",
            "|R2FJ94555FZH32|          2|           55|         60|   N|                N|\n",
            "|R1U3AR67RE273L|          1|           51|         65|   N|                Y|\n",
            "|R3PZOXA5X1U8KW|          4|           31|         36|   N|                N|\n",
            "| R6KTC1OPIOIIG|          2|           19|         34|   N|                Y|\n",
            "|R36O341WWXXKNP|          5|           28|         31|   N|                N|\n",
            "|R10LZVBLQHBVJ0|          2|          151|        198|   N|                N|\n",
            "|R1VR5GLGY1GE7N|          1|           49|         51|   N|                Y|\n",
            "+--------------+-----------+-------------+-----------+----+-----------------+\n",
            "only showing top 10 rows\n",
            "\n",
            "total count: 40471\n"
          ]
        }
      ]
    },
    {
      "cell_type": "markdown",
      "source": [
        "***Analysis of Filtered Table***"
      ],
      "metadata": {
        "id": "L1nUU9820TZw"
      }
    },
    {
      "cell_type": "code",
      "source": [
        "#create function for percentage\n",
        "def get_percentage(decimal):\n",
        "    convert = \"{:.0%}\".format(decimal)\n",
        "\n",
        "    return convert;"
      ],
      "metadata": {
        "id": "PmS-eLJG3Wdd"
      },
      "execution_count": null,
      "outputs": []
    },
    {
      "cell_type": "code",
      "source": [
        "#5. Paid Vine analysis:\n",
        "\n",
        "#total number of review:\n",
        "count_paid_review = paid_vine_df.count()\n",
        "\n",
        "#count number of 5 star reviews\n",
        "five_star_count = paid_vine_df[paid_vine_df[\"star_rating\"]== 5].count()\n",
        "\n",
        "# percentage of 5-star reviews\n",
        "percent_five_star_count = five_star_count/count_paid_review\n",
        "\n",
        "\n",
        "print(f\"Total count of paid Vine reviews: {count_paid_review} \\n\" \n",
        "      f\"Total Count five-star reviews from paid Vine users: {five_star_count} \\n\"\n",
        "      f\"Percentage of five-star reviews from paid Vine users: {get_percentage(percent_five_star_count)}\")"
      ],
      "metadata": {
        "colab": {
          "base_uri": "https://localhost:8080/"
        },
        "id": "JyktEwf7lNyx",
        "outputId": "1d37e112-cb75-497f-e08f-5f0c49f322dd"
      },
      "execution_count": null,
      "outputs": [
        {
          "output_type": "stream",
          "name": "stdout",
          "text": [
            "Total count of paid Vine reviews: 94 \n",
            "Total Count five-star reviews from paid Vine users: 48 \n",
            "Percentage of five-star reviews from paid Vine users: 51%\n"
          ]
        }
      ]
    },
    {
      "cell_type": "code",
      "source": [
        "#5. non Paid analysis:\n",
        "\n",
        "#total number of review:\n",
        "count_non_paid_review = non_paid_vine_df.count()\n",
        "\n",
        "#count number of 5 star reviews\n",
        "five_star_non_count = non_paid_vine_df[non_paid_vine_df[\"star_rating\"]== 5].count()\n",
        "\n",
        "# percentage of 5-star reviews\n",
        "percent_five_star_non_count = five_star_non_count/count_non_paid_review\n",
        "\n",
        "print(f\"Total count of non-paid Vine reviews: {count_non_paid_review} \\n\" \n",
        "      f\"Total count five-star reviews from non-paid Vine users: {five_star_non_count} \\n\"\n",
        "      f\"Percentage of five-star reviews from non-paid Vine users: {get_percentage(percent_five_star_non_count)}\")"
      ],
      "metadata": {
        "colab": {
          "base_uri": "https://localhost:8080/"
        },
        "id": "N0uz2Woltkrf",
        "outputId": "2132670e-7f75-4688-dfa4-547833aeb9e7"
      },
      "execution_count": 39,
      "outputs": [
        {
          "output_type": "stream",
          "name": "stdout",
          "text": [
            "Total count of non-paid Vine reviews: 40471 \n",
            "Total count five-star reviews from non-paid Vine users: 15663 \n",
            "Percentage of five-star reviews from non-paid Vine users: 39%\n"
          ]
        }
      ]
    },
    {
      "cell_type": "code",
      "source": [
        "#count number of 4-star non-paid reviews\n",
        "four_star_non_count = non_paid_vine_df[non_paid_vine_df[\"star_rating\"]== 4].count()\n",
        "# percentage of 4-star non-paid reviews\n",
        "percent_four_star_non_count = four_star_non_count/count_non_paid_review\n",
        "print(f\"Percentage of four-star reviews from non-paid Vine users: {get_percentage(percent_four_star_non_count)}\")"
      ],
      "metadata": {
        "colab": {
          "base_uri": "https://localhost:8080/"
        },
        "id": "vpanw5dcuO1M",
        "outputId": "8c4d034a-98e6-4732-c33a-28fe8c0f0cc3"
      },
      "execution_count": 36,
      "outputs": [
        {
          "output_type": "stream",
          "name": "stdout",
          "text": [
            "Percentage of four-star reviews from non-paid Vine users: 17%\n"
          ]
        }
      ]
    },
    {
      "cell_type": "code",
      "source": [
        "#count number of 4-star paid reviews\n",
        "four_star_count = paid_vine_df[paid_vine_df[\"star_rating\"]== 4].count()\n",
        "# percentage of 4-star paid reviews\n",
        "percent_four_star_count = four_star_count/count_paid_review\n",
        "print(f\"Percentage of four-star reviews from paid Vine users: {get_percentage(percent_four_star_count)}\")"
      ],
      "metadata": {
        "id": "QGG-soKamxzt",
        "colab": {
          "base_uri": "https://localhost:8080/"
        },
        "outputId": "0750e7c2-d093-4043-d100-eb8215d9a8b9"
      },
      "execution_count": 38,
      "outputs": [
        {
          "output_type": "stream",
          "name": "stdout",
          "text": [
            "Percentage of four-star reviews from paid Vine users: 26%\n"
          ]
        }
      ]
    }
  ]
}